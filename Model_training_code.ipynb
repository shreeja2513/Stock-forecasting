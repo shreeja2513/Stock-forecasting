{
  "cells": [
    {
      "cell_type": "markdown",
      "metadata": {
        "id": "view-in-github",
        "colab_type": "text"
      },
      "source": [
        "<a href=\"https://colab.research.google.com/github/shreeja2513/Stock-forecasting/blob/main/Model_training_code.ipynb\" target=\"_parent\"><img src=\"https://colab.research.google.com/assets/colab-badge.svg\" alt=\"Open In Colab\"/></a>"
      ]
    },
    {
      "cell_type": "code",
      "source": [],
      "metadata": {
        "id": "ZNR5iCENUjTx"
      },
      "execution_count": null,
      "outputs": []
    },
    {
      "cell_type": "code",
      "execution_count": null,
      "metadata": {
        "id": "Xzse88b44Fjw"
      },
      "outputs": [],
      "source": [
        "import pandas as pd\n",
        "import numpy as np"
      ]
    },
    {
      "cell_type": "code",
      "execution_count": null,
      "metadata": {
        "colab": {
          "base_uri": "https://localhost:8080/"
        },
        "id": "dpkxl7ANBL-w",
        "outputId": "b860946a-7a2a-4762-89d0-d7e80218c55a"
      },
      "outputs": [
        {
          "output_type": "stream",
          "name": "stdout",
          "text": [
            "Mounted at /content/drive\n"
          ]
        }
      ],
      "source": [
        "from google.colab import drive\n",
        "drive.mount('/content/drive')"
      ]
    },
    {
      "cell_type": "code",
      "execution_count": null,
      "metadata": {
        "id": "SUA_ZLJRBbcb"
      },
      "outputs": [],
      "source": [
        "import pandas as pd\n",
        "import numpy as np\n",
        "data=pd.read_csv('/content/drive/MyDrive/Stock Index.csv')"
      ]
    },
    {
      "cell_type": "code",
      "execution_count": null,
      "metadata": {
        "colab": {
          "base_uri": "https://localhost:8080/",
          "height": 206
        },
        "id": "eixJUinjCZAC",
        "outputId": "00fb4d71-e3c0-4bdf-9153-dad97fde195a"
      },
      "outputs": [
        {
          "output_type": "execute_result",
          "data": {
            "text/plain": [
              "         Date         Open         High          Low        Close  \\\n",
              "0  2010-01-04  5200.899902  5238.450195  5167.100098  5232.200195   \n",
              "1  2010-01-05  5277.149902  5288.350098  5242.399902  5277.899902   \n",
              "2  2010-01-06  5278.149902  5310.850098  5260.049805  5281.799805   \n",
              "3  2010-01-07  5281.799805  5302.549805  5244.750000  5263.100098   \n",
              "4  2010-01-08  5264.250000  5276.750000  5234.700195  5244.750000   \n",
              "\n",
              "     Adj Close  Volume  \n",
              "0  5232.200195     0.0  \n",
              "1  5277.899902     0.0  \n",
              "2  5281.799805     0.0  \n",
              "3  5263.100098     0.0  \n",
              "4  5244.750000     0.0  "
            ],
            "text/html": [
              "\n",
              "\n",
              "  <div id=\"df-e35b1d7e-05b0-4789-9a0e-4b28061977d8\">\n",
              "    <div class=\"colab-df-container\">\n",
              "      <div>\n",
              "<style scoped>\n",
              "    .dataframe tbody tr th:only-of-type {\n",
              "        vertical-align: middle;\n",
              "    }\n",
              "\n",
              "    .dataframe tbody tr th {\n",
              "        vertical-align: top;\n",
              "    }\n",
              "\n",
              "    .dataframe thead th {\n",
              "        text-align: right;\n",
              "    }\n",
              "</style>\n",
              "<table border=\"1\" class=\"dataframe\">\n",
              "  <thead>\n",
              "    <tr style=\"text-align: right;\">\n",
              "      <th></th>\n",
              "      <th>Date</th>\n",
              "      <th>Open</th>\n",
              "      <th>High</th>\n",
              "      <th>Low</th>\n",
              "      <th>Close</th>\n",
              "      <th>Adj Close</th>\n",
              "      <th>Volume</th>\n",
              "    </tr>\n",
              "  </thead>\n",
              "  <tbody>\n",
              "    <tr>\n",
              "      <th>0</th>\n",
              "      <td>2010-01-04</td>\n",
              "      <td>5200.899902</td>\n",
              "      <td>5238.450195</td>\n",
              "      <td>5167.100098</td>\n",
              "      <td>5232.200195</td>\n",
              "      <td>5232.200195</td>\n",
              "      <td>0.0</td>\n",
              "    </tr>\n",
              "    <tr>\n",
              "      <th>1</th>\n",
              "      <td>2010-01-05</td>\n",
              "      <td>5277.149902</td>\n",
              "      <td>5288.350098</td>\n",
              "      <td>5242.399902</td>\n",
              "      <td>5277.899902</td>\n",
              "      <td>5277.899902</td>\n",
              "      <td>0.0</td>\n",
              "    </tr>\n",
              "    <tr>\n",
              "      <th>2</th>\n",
              "      <td>2010-01-06</td>\n",
              "      <td>5278.149902</td>\n",
              "      <td>5310.850098</td>\n",
              "      <td>5260.049805</td>\n",
              "      <td>5281.799805</td>\n",
              "      <td>5281.799805</td>\n",
              "      <td>0.0</td>\n",
              "    </tr>\n",
              "    <tr>\n",
              "      <th>3</th>\n",
              "      <td>2010-01-07</td>\n",
              "      <td>5281.799805</td>\n",
              "      <td>5302.549805</td>\n",
              "      <td>5244.750000</td>\n",
              "      <td>5263.100098</td>\n",
              "      <td>5263.100098</td>\n",
              "      <td>0.0</td>\n",
              "    </tr>\n",
              "    <tr>\n",
              "      <th>4</th>\n",
              "      <td>2010-01-08</td>\n",
              "      <td>5264.250000</td>\n",
              "      <td>5276.750000</td>\n",
              "      <td>5234.700195</td>\n",
              "      <td>5244.750000</td>\n",
              "      <td>5244.750000</td>\n",
              "      <td>0.0</td>\n",
              "    </tr>\n",
              "  </tbody>\n",
              "</table>\n",
              "</div>\n",
              "      <button class=\"colab-df-convert\" onclick=\"convertToInteractive('df-e35b1d7e-05b0-4789-9a0e-4b28061977d8')\"\n",
              "              title=\"Convert this dataframe to an interactive table.\"\n",
              "              style=\"display:none;\">\n",
              "\n",
              "  <svg xmlns=\"http://www.w3.org/2000/svg\" height=\"24px\"viewBox=\"0 0 24 24\"\n",
              "       width=\"24px\">\n",
              "    <path d=\"M0 0h24v24H0V0z\" fill=\"none\"/>\n",
              "    <path d=\"M18.56 5.44l.94 2.06.94-2.06 2.06-.94-2.06-.94-.94-2.06-.94 2.06-2.06.94zm-11 1L8.5 8.5l.94-2.06 2.06-.94-2.06-.94L8.5 2.5l-.94 2.06-2.06.94zm10 10l.94 2.06.94-2.06 2.06-.94-2.06-.94-.94-2.06-.94 2.06-2.06.94z\"/><path d=\"M17.41 7.96l-1.37-1.37c-.4-.4-.92-.59-1.43-.59-.52 0-1.04.2-1.43.59L10.3 9.45l-7.72 7.72c-.78.78-.78 2.05 0 2.83L4 21.41c.39.39.9.59 1.41.59.51 0 1.02-.2 1.41-.59l7.78-7.78 2.81-2.81c.8-.78.8-2.07 0-2.86zM5.41 20L4 18.59l7.72-7.72 1.47 1.35L5.41 20z\"/>\n",
              "  </svg>\n",
              "      </button>\n",
              "\n",
              "\n",
              "\n",
              "    <div id=\"df-67c809ee-976f-4e4f-a7d7-6fbab1a1898e\">\n",
              "      <button class=\"colab-df-quickchart\" onclick=\"quickchart('df-67c809ee-976f-4e4f-a7d7-6fbab1a1898e')\"\n",
              "              title=\"Suggest charts.\"\n",
              "              style=\"display:none;\">\n",
              "\n",
              "<svg xmlns=\"http://www.w3.org/2000/svg\" height=\"24px\"viewBox=\"0 0 24 24\"\n",
              "     width=\"24px\">\n",
              "    <g>\n",
              "        <path d=\"M19 3H5c-1.1 0-2 .9-2 2v14c0 1.1.9 2 2 2h14c1.1 0 2-.9 2-2V5c0-1.1-.9-2-2-2zM9 17H7v-7h2v7zm4 0h-2V7h2v10zm4 0h-2v-4h2v4z\"/>\n",
              "    </g>\n",
              "</svg>\n",
              "      </button>\n",
              "    </div>\n",
              "\n",
              "<style>\n",
              "  .colab-df-quickchart {\n",
              "    background-color: #E8F0FE;\n",
              "    border: none;\n",
              "    border-radius: 50%;\n",
              "    cursor: pointer;\n",
              "    display: none;\n",
              "    fill: #1967D2;\n",
              "    height: 32px;\n",
              "    padding: 0 0 0 0;\n",
              "    width: 32px;\n",
              "  }\n",
              "\n",
              "  .colab-df-quickchart:hover {\n",
              "    background-color: #E2EBFA;\n",
              "    box-shadow: 0px 1px 2px rgba(60, 64, 67, 0.3), 0px 1px 3px 1px rgba(60, 64, 67, 0.15);\n",
              "    fill: #174EA6;\n",
              "  }\n",
              "\n",
              "  [theme=dark] .colab-df-quickchart {\n",
              "    background-color: #3B4455;\n",
              "    fill: #D2E3FC;\n",
              "  }\n",
              "\n",
              "  [theme=dark] .colab-df-quickchart:hover {\n",
              "    background-color: #434B5C;\n",
              "    box-shadow: 0px 1px 3px 1px rgba(0, 0, 0, 0.15);\n",
              "    filter: drop-shadow(0px 1px 2px rgba(0, 0, 0, 0.3));\n",
              "    fill: #FFFFFF;\n",
              "  }\n",
              "</style>\n",
              "\n",
              "    <script>\n",
              "      async function quickchart(key) {\n",
              "        const containerElement = document.querySelector('#' + key);\n",
              "        const charts = await google.colab.kernel.invokeFunction(\n",
              "            'suggestCharts', [key], {});\n",
              "      }\n",
              "    </script>\n",
              "\n",
              "      <script>\n",
              "\n",
              "function displayQuickchartButton(domScope) {\n",
              "  let quickchartButtonEl =\n",
              "    domScope.querySelector('#df-67c809ee-976f-4e4f-a7d7-6fbab1a1898e button.colab-df-quickchart');\n",
              "  quickchartButtonEl.style.display =\n",
              "    google.colab.kernel.accessAllowed ? 'block' : 'none';\n",
              "}\n",
              "\n",
              "        displayQuickchartButton(document);\n",
              "      </script>\n",
              "      <style>\n",
              "    .colab-df-container {\n",
              "      display:flex;\n",
              "      flex-wrap:wrap;\n",
              "      gap: 12px;\n",
              "    }\n",
              "\n",
              "    .colab-df-convert {\n",
              "      background-color: #E8F0FE;\n",
              "      border: none;\n",
              "      border-radius: 50%;\n",
              "      cursor: pointer;\n",
              "      display: none;\n",
              "      fill: #1967D2;\n",
              "      height: 32px;\n",
              "      padding: 0 0 0 0;\n",
              "      width: 32px;\n",
              "    }\n",
              "\n",
              "    .colab-df-convert:hover {\n",
              "      background-color: #E2EBFA;\n",
              "      box-shadow: 0px 1px 2px rgba(60, 64, 67, 0.3), 0px 1px 3px 1px rgba(60, 64, 67, 0.15);\n",
              "      fill: #174EA6;\n",
              "    }\n",
              "\n",
              "    [theme=dark] .colab-df-convert {\n",
              "      background-color: #3B4455;\n",
              "      fill: #D2E3FC;\n",
              "    }\n",
              "\n",
              "    [theme=dark] .colab-df-convert:hover {\n",
              "      background-color: #434B5C;\n",
              "      box-shadow: 0px 1px 3px 1px rgba(0, 0, 0, 0.15);\n",
              "      filter: drop-shadow(0px 1px 2px rgba(0, 0, 0, 0.3));\n",
              "      fill: #FFFFFF;\n",
              "    }\n",
              "  </style>\n",
              "\n",
              "      <script>\n",
              "        const buttonEl =\n",
              "          document.querySelector('#df-e35b1d7e-05b0-4789-9a0e-4b28061977d8 button.colab-df-convert');\n",
              "        buttonEl.style.display =\n",
              "          google.colab.kernel.accessAllowed ? 'block' : 'none';\n",
              "\n",
              "        async function convertToInteractive(key) {\n",
              "          const element = document.querySelector('#df-e35b1d7e-05b0-4789-9a0e-4b28061977d8');\n",
              "          const dataTable =\n",
              "            await google.colab.kernel.invokeFunction('convertToInteractive',\n",
              "                                                     [key], {});\n",
              "          if (!dataTable) return;\n",
              "\n",
              "          const docLinkHtml = 'Like what you see? Visit the ' +\n",
              "            '<a target=\"_blank\" href=https://colab.research.google.com/notebooks/data_table.ipynb>data table notebook</a>'\n",
              "            + ' to learn more about interactive tables.';\n",
              "          element.innerHTML = '';\n",
              "          dataTable['output_type'] = 'display_data';\n",
              "          await google.colab.output.renderOutput(dataTable, element);\n",
              "          const docLink = document.createElement('div');\n",
              "          docLink.innerHTML = docLinkHtml;\n",
              "          element.appendChild(docLink);\n",
              "        }\n",
              "      </script>\n",
              "    </div>\n",
              "  </div>\n"
            ]
          },
          "metadata": {},
          "execution_count": 4
        }
      ],
      "source": [
        "data.head()"
      ]
    },
    {
      "cell_type": "code",
      "execution_count": null,
      "metadata": {
        "colab": {
          "base_uri": "https://localhost:8080/",
          "height": 206
        },
        "id": "bb4Ni1ZCCtAJ",
        "outputId": "a6483085-8b72-492d-845a-3a9986a91ed9"
      },
      "outputs": [
        {
          "output_type": "execute_result",
          "data": {
            "text/plain": [
              "            Date         Open         High          Low        Close  \\\n",
              "2689  2021-04-26  14449.45020  14557.50000  14421.29981  14485.00000   \n",
              "2690  2021-04-27  14493.79981  14667.54981  14484.84961  14653.04981   \n",
              "2691  2021-04-28  14710.50000  14890.25000  14694.95020  14864.54981   \n",
              "2692  2021-04-29  14979.00000  15044.34961  14814.45020  14894.90039   \n",
              "2693  2021-04-30  14747.34961  14855.45020  14601.70020  14631.09961   \n",
              "\n",
              "        Adj Close    Volume  \n",
              "2689  14485.00000  452700.0  \n",
              "2690  14653.04981  451800.0  \n",
              "2691  14864.54981  457000.0  \n",
              "2692  14894.90039  517500.0  \n",
              "2693  14631.09961  613900.0  "
            ],
            "text/html": [
              "\n",
              "\n",
              "  <div id=\"df-4eadb0fb-bf29-47c2-8247-1d9040824257\">\n",
              "    <div class=\"colab-df-container\">\n",
              "      <div>\n",
              "<style scoped>\n",
              "    .dataframe tbody tr th:only-of-type {\n",
              "        vertical-align: middle;\n",
              "    }\n",
              "\n",
              "    .dataframe tbody tr th {\n",
              "        vertical-align: top;\n",
              "    }\n",
              "\n",
              "    .dataframe thead th {\n",
              "        text-align: right;\n",
              "    }\n",
              "</style>\n",
              "<table border=\"1\" class=\"dataframe\">\n",
              "  <thead>\n",
              "    <tr style=\"text-align: right;\">\n",
              "      <th></th>\n",
              "      <th>Date</th>\n",
              "      <th>Open</th>\n",
              "      <th>High</th>\n",
              "      <th>Low</th>\n",
              "      <th>Close</th>\n",
              "      <th>Adj Close</th>\n",
              "      <th>Volume</th>\n",
              "    </tr>\n",
              "  </thead>\n",
              "  <tbody>\n",
              "    <tr>\n",
              "      <th>2689</th>\n",
              "      <td>2021-04-26</td>\n",
              "      <td>14449.45020</td>\n",
              "      <td>14557.50000</td>\n",
              "      <td>14421.29981</td>\n",
              "      <td>14485.00000</td>\n",
              "      <td>14485.00000</td>\n",
              "      <td>452700.0</td>\n",
              "    </tr>\n",
              "    <tr>\n",
              "      <th>2690</th>\n",
              "      <td>2021-04-27</td>\n",
              "      <td>14493.79981</td>\n",
              "      <td>14667.54981</td>\n",
              "      <td>14484.84961</td>\n",
              "      <td>14653.04981</td>\n",
              "      <td>14653.04981</td>\n",
              "      <td>451800.0</td>\n",
              "    </tr>\n",
              "    <tr>\n",
              "      <th>2691</th>\n",
              "      <td>2021-04-28</td>\n",
              "      <td>14710.50000</td>\n",
              "      <td>14890.25000</td>\n",
              "      <td>14694.95020</td>\n",
              "      <td>14864.54981</td>\n",
              "      <td>14864.54981</td>\n",
              "      <td>457000.0</td>\n",
              "    </tr>\n",
              "    <tr>\n",
              "      <th>2692</th>\n",
              "      <td>2021-04-29</td>\n",
              "      <td>14979.00000</td>\n",
              "      <td>15044.34961</td>\n",
              "      <td>14814.45020</td>\n",
              "      <td>14894.90039</td>\n",
              "      <td>14894.90039</td>\n",
              "      <td>517500.0</td>\n",
              "    </tr>\n",
              "    <tr>\n",
              "      <th>2693</th>\n",
              "      <td>2021-04-30</td>\n",
              "      <td>14747.34961</td>\n",
              "      <td>14855.45020</td>\n",
              "      <td>14601.70020</td>\n",
              "      <td>14631.09961</td>\n",
              "      <td>14631.09961</td>\n",
              "      <td>613900.0</td>\n",
              "    </tr>\n",
              "  </tbody>\n",
              "</table>\n",
              "</div>\n",
              "      <button class=\"colab-df-convert\" onclick=\"convertToInteractive('df-4eadb0fb-bf29-47c2-8247-1d9040824257')\"\n",
              "              title=\"Convert this dataframe to an interactive table.\"\n",
              "              style=\"display:none;\">\n",
              "\n",
              "  <svg xmlns=\"http://www.w3.org/2000/svg\" height=\"24px\"viewBox=\"0 0 24 24\"\n",
              "       width=\"24px\">\n",
              "    <path d=\"M0 0h24v24H0V0z\" fill=\"none\"/>\n",
              "    <path d=\"M18.56 5.44l.94 2.06.94-2.06 2.06-.94-2.06-.94-.94-2.06-.94 2.06-2.06.94zm-11 1L8.5 8.5l.94-2.06 2.06-.94-2.06-.94L8.5 2.5l-.94 2.06-2.06.94zm10 10l.94 2.06.94-2.06 2.06-.94-2.06-.94-.94-2.06-.94 2.06-2.06.94z\"/><path d=\"M17.41 7.96l-1.37-1.37c-.4-.4-.92-.59-1.43-.59-.52 0-1.04.2-1.43.59L10.3 9.45l-7.72 7.72c-.78.78-.78 2.05 0 2.83L4 21.41c.39.39.9.59 1.41.59.51 0 1.02-.2 1.41-.59l7.78-7.78 2.81-2.81c.8-.78.8-2.07 0-2.86zM5.41 20L4 18.59l7.72-7.72 1.47 1.35L5.41 20z\"/>\n",
              "  </svg>\n",
              "      </button>\n",
              "\n",
              "\n",
              "\n",
              "    <div id=\"df-51d79e1b-b695-4f88-a114-2af545191d3a\">\n",
              "      <button class=\"colab-df-quickchart\" onclick=\"quickchart('df-51d79e1b-b695-4f88-a114-2af545191d3a')\"\n",
              "              title=\"Suggest charts.\"\n",
              "              style=\"display:none;\">\n",
              "\n",
              "<svg xmlns=\"http://www.w3.org/2000/svg\" height=\"24px\"viewBox=\"0 0 24 24\"\n",
              "     width=\"24px\">\n",
              "    <g>\n",
              "        <path d=\"M19 3H5c-1.1 0-2 .9-2 2v14c0 1.1.9 2 2 2h14c1.1 0 2-.9 2-2V5c0-1.1-.9-2-2-2zM9 17H7v-7h2v7zm4 0h-2V7h2v10zm4 0h-2v-4h2v4z\"/>\n",
              "    </g>\n",
              "</svg>\n",
              "      </button>\n",
              "    </div>\n",
              "\n",
              "<style>\n",
              "  .colab-df-quickchart {\n",
              "    background-color: #E8F0FE;\n",
              "    border: none;\n",
              "    border-radius: 50%;\n",
              "    cursor: pointer;\n",
              "    display: none;\n",
              "    fill: #1967D2;\n",
              "    height: 32px;\n",
              "    padding: 0 0 0 0;\n",
              "    width: 32px;\n",
              "  }\n",
              "\n",
              "  .colab-df-quickchart:hover {\n",
              "    background-color: #E2EBFA;\n",
              "    box-shadow: 0px 1px 2px rgba(60, 64, 67, 0.3), 0px 1px 3px 1px rgba(60, 64, 67, 0.15);\n",
              "    fill: #174EA6;\n",
              "  }\n",
              "\n",
              "  [theme=dark] .colab-df-quickchart {\n",
              "    background-color: #3B4455;\n",
              "    fill: #D2E3FC;\n",
              "  }\n",
              "\n",
              "  [theme=dark] .colab-df-quickchart:hover {\n",
              "    background-color: #434B5C;\n",
              "    box-shadow: 0px 1px 3px 1px rgba(0, 0, 0, 0.15);\n",
              "    filter: drop-shadow(0px 1px 2px rgba(0, 0, 0, 0.3));\n",
              "    fill: #FFFFFF;\n",
              "  }\n",
              "</style>\n",
              "\n",
              "    <script>\n",
              "      async function quickchart(key) {\n",
              "        const containerElement = document.querySelector('#' + key);\n",
              "        const charts = await google.colab.kernel.invokeFunction(\n",
              "            'suggestCharts', [key], {});\n",
              "      }\n",
              "    </script>\n",
              "\n",
              "      <script>\n",
              "\n",
              "function displayQuickchartButton(domScope) {\n",
              "  let quickchartButtonEl =\n",
              "    domScope.querySelector('#df-51d79e1b-b695-4f88-a114-2af545191d3a button.colab-df-quickchart');\n",
              "  quickchartButtonEl.style.display =\n",
              "    google.colab.kernel.accessAllowed ? 'block' : 'none';\n",
              "}\n",
              "\n",
              "        displayQuickchartButton(document);\n",
              "      </script>\n",
              "      <style>\n",
              "    .colab-df-container {\n",
              "      display:flex;\n",
              "      flex-wrap:wrap;\n",
              "      gap: 12px;\n",
              "    }\n",
              "\n",
              "    .colab-df-convert {\n",
              "      background-color: #E8F0FE;\n",
              "      border: none;\n",
              "      border-radius: 50%;\n",
              "      cursor: pointer;\n",
              "      display: none;\n",
              "      fill: #1967D2;\n",
              "      height: 32px;\n",
              "      padding: 0 0 0 0;\n",
              "      width: 32px;\n",
              "    }\n",
              "\n",
              "    .colab-df-convert:hover {\n",
              "      background-color: #E2EBFA;\n",
              "      box-shadow: 0px 1px 2px rgba(60, 64, 67, 0.3), 0px 1px 3px 1px rgba(60, 64, 67, 0.15);\n",
              "      fill: #174EA6;\n",
              "    }\n",
              "\n",
              "    [theme=dark] .colab-df-convert {\n",
              "      background-color: #3B4455;\n",
              "      fill: #D2E3FC;\n",
              "    }\n",
              "\n",
              "    [theme=dark] .colab-df-convert:hover {\n",
              "      background-color: #434B5C;\n",
              "      box-shadow: 0px 1px 3px 1px rgba(0, 0, 0, 0.15);\n",
              "      filter: drop-shadow(0px 1px 2px rgba(0, 0, 0, 0.3));\n",
              "      fill: #FFFFFF;\n",
              "    }\n",
              "  </style>\n",
              "\n",
              "      <script>\n",
              "        const buttonEl =\n",
              "          document.querySelector('#df-4eadb0fb-bf29-47c2-8247-1d9040824257 button.colab-df-convert');\n",
              "        buttonEl.style.display =\n",
              "          google.colab.kernel.accessAllowed ? 'block' : 'none';\n",
              "\n",
              "        async function convertToInteractive(key) {\n",
              "          const element = document.querySelector('#df-4eadb0fb-bf29-47c2-8247-1d9040824257');\n",
              "          const dataTable =\n",
              "            await google.colab.kernel.invokeFunction('convertToInteractive',\n",
              "                                                     [key], {});\n",
              "          if (!dataTable) return;\n",
              "\n",
              "          const docLinkHtml = 'Like what you see? Visit the ' +\n",
              "            '<a target=\"_blank\" href=https://colab.research.google.com/notebooks/data_table.ipynb>data table notebook</a>'\n",
              "            + ' to learn more about interactive tables.';\n",
              "          element.innerHTML = '';\n",
              "          dataTable['output_type'] = 'display_data';\n",
              "          await google.colab.output.renderOutput(dataTable, element);\n",
              "          const docLink = document.createElement('div');\n",
              "          docLink.innerHTML = docLinkHtml;\n",
              "          element.appendChild(docLink);\n",
              "        }\n",
              "      </script>\n",
              "    </div>\n",
              "  </div>\n"
            ]
          },
          "metadata": {},
          "execution_count": 5
        }
      ],
      "source": [
        "data.tail()"
      ]
    },
    {
      "cell_type": "code",
      "execution_count": null,
      "metadata": {
        "id": "PovBbdNHAxmF"
      },
      "outputs": [],
      "source": [
        "import pandas as pd\n",
        "import numpy as np"
      ]
    },
    {
      "cell_type": "code",
      "execution_count": null,
      "metadata": {
        "id": "GhzuZc_-FneC"
      },
      "outputs": [],
      "source": [
        "data1=data.reset_index()['Close']"
      ]
    },
    {
      "cell_type": "code",
      "execution_count": null,
      "metadata": {
        "colab": {
          "base_uri": "https://localhost:8080/"
        },
        "id": "SdgPed89GExT",
        "outputId": "36110bfe-854c-4a72-f273-875505fbeee3"
      },
      "outputs": [
        {
          "output_type": "execute_result",
          "data": {
            "text/plain": [
              "(2694,)"
            ]
          },
          "metadata": {},
          "execution_count": 8
        }
      ],
      "source": [
        "data1.shape"
      ]
    },
    {
      "cell_type": "code",
      "execution_count": null,
      "metadata": {
        "id": "W99Fw0AyGL3k"
      },
      "outputs": [],
      "source": [
        "import matplotlib.pyplot as plt"
      ]
    },
    {
      "cell_type": "code",
      "execution_count": null,
      "metadata": {
        "colab": {
          "base_uri": "https://localhost:8080/",
          "height": 447
        },
        "id": "24sRkcDGGW5G",
        "outputId": "1625e108-93de-4d0b-f976-43f42f3d7b80"
      },
      "outputs": [
        {
          "output_type": "execute_result",
          "data": {
            "text/plain": [
              "[<matplotlib.lines.Line2D at 0x7f998f573cd0>]"
            ]
          },
          "metadata": {},
          "execution_count": 10
        },
        {
          "output_type": "display_data",
          "data": {
            "text/plain": [
              "<Figure size 640x480 with 1 Axes>"
            ],
            "image/png": "[encoded data removed]"
          },
          "metadata": {}
        }
      ],
      "source": [
        "plt.plot(data1)"
      ]
    },
    {
      "cell_type": "code",
      "execution_count": null,
      "metadata": {
        "colab": {
          "base_uri": "https://localhost:8080/"
        },
        "id": "lUKtfU9DHLYj",
        "outputId": "1db2a647-336b-4a60-fcad-8fe84aee4b19"
      },
      "outputs": [
        {
          "output_type": "execute_result",
          "data": {
            "text/plain": [
              "0        5232.200195\n",
              "1        5277.899902\n",
              "2        5281.799805\n",
              "3        5263.100098\n",
              "4        5244.750000\n",
              "            ...     \n",
              "2689    14485.000000\n",
              "2690    14653.049810\n",
              "2691    14864.549810\n",
              "2692    14894.900390\n",
              "2693    14631.099610\n",
              "Name: Close, Length: 2694, dtype: float64"
            ]
          },
          "metadata": {},
          "execution_count": 11
        }
      ],
      "source": [
        "data1"
      ]
    },
    {
      "cell_type": "code",
      "execution_count": null,
      "metadata": {
        "id": "Z_UJNeWMHQxm"
      },
      "outputs": [],
      "source": [
        "data = data.dropna()"
      ]
    },
    {
      "cell_type": "code",
      "execution_count": null,
      "metadata": {
        "colab": {
          "base_uri": "https://localhost:8080/"
        },
        "id": "yVt1K3WkHehh",
        "outputId": "180d1330-847b-4db9-dc6e-e38e9ceda292"
      },
      "outputs": [
        {
          "output_type": "execute_result",
          "data": {
            "text/plain": [
              "0        5232.200195\n",
              "1        5277.899902\n",
              "2        5281.799805\n",
              "3        5263.100098\n",
              "4        5244.750000\n",
              "            ...     \n",
              "2689    14485.000000\n",
              "2690    14653.049810\n",
              "2691    14864.549810\n",
              "2692    14894.900390\n",
              "2693    14631.099610\n",
              "Name: Close, Length: 2667, dtype: float64"
            ]
          },
          "metadata": {},
          "execution_count": 13
        }
      ],
      "source": [
        "data1=data1.dropna()\n",
        "data1"
      ]
    },
    {
      "cell_type": "code",
      "execution_count": null,
      "metadata": {
        "id": "rhXf3ciqH6EL"
      },
      "outputs": [],
      "source": [
        "from sklearn.preprocessing import MinMaxScaler\n",
        "scaler=MinMaxScaler(feature_range=(0,1))\n",
        "data1=scaler.fit_transform(np.array(data1).reshape(-1,1))"
      ]
    },
    {
      "cell_type": "code",
      "execution_count": null,
      "metadata": {
        "colab": {
          "base_uri": "https://localhost:8080/"
        },
        "id": "oXR3rsNRIuZx",
        "outputId": "7cab8ace-6708-4c63-8cc7-92f719d98310"
      },
      "outputs": [
        {
          "output_type": "stream",
          "name": "stdout",
          "text": [
            "[[0.06387819]\n",
            " [0.06812123]\n",
            " [0.06848332]\n",
            " ...\n",
            " [0.95820525]\n",
            " [0.96102318]\n",
            " [0.93653028]]\n"
          ]
        }
      ],
      "source": [
        "print(data1)"
      ]
    },
    {
      "cell_type": "code",
      "execution_count": null,
      "metadata": {
        "id": "xM5ECMeSJAI1"
      },
      "outputs": [],
      "source": [
        "##splitting dataset into train and test split\n",
        "training_size=int(len(data1)*0.65)\n",
        "test_size=len(data1)-training_size\n",
        "train_data,test_data=data1[0:training_size,:],data1[training_size:len(data1),:1]"
      ]
    },
    {
      "cell_type": "code",
      "execution_count": null,
      "metadata": {
        "colab": {
          "base_uri": "https://localhost:8080/"
        },
        "id": "anCBCZCqJGtr",
        "outputId": "327232bd-cfbb-48e3-c310-0387059c056b"
      },
      "outputs": [
        {
          "output_type": "execute_result",
          "data": {
            "text/plain": [
              "(1733, 934)"
            ]
          },
          "metadata": {},
          "execution_count": 17
        }
      ],
      "source": [
        "training_size,test_size"
      ]
    },
    {
      "cell_type": "code",
      "execution_count": null,
      "metadata": {
        "colab": {
          "base_uri": "https://localhost:8080/"
        },
        "id": "7bFvmTDoJKf0",
        "outputId": "e81f4e3f-8f09-4a37-f4f4-de3de10542b5"
      },
      "outputs": [
        {
          "output_type": "execute_result",
          "data": {
            "text/plain": [
              "array([[0.06387819],\n",
              "       [0.06812123],\n",
              "       [0.06848332],\n",
              "       ...,\n",
              "       [0.46251797],\n",
              "       [0.4535769 ],\n",
              "       [0.45343301]])"
            ]
          },
          "metadata": {},
          "execution_count": 18
        }
      ],
      "source": [
        "train_data"
      ]
    },
    {
      "cell_type": "code",
      "execution_count": null,
      "metadata": {
        "id": "fJsjLtStJTcw"
      },
      "outputs": [],
      "source": [
        "import numpy\n",
        "# convert an array of values into a dataset matrix\n",
        "def create_dataset(dataset, time_step=1):\n",
        "\tdataX, dataY = [], []\n",
        "\tfor i in range(len(dataset)-time_step-1):\n",
        "\t\ta = dataset[i:(i+time_step), 0]   ###i=0, 0,1,2,3-----99   100\n",
        "\t\tdataX.append(a)\n",
        "\t\tdataY.append(dataset[i + time_step, 0])\n",
        "\treturn numpy.array(dataX), numpy.array(dataY)"
      ]
    },
    {
      "cell_type": "code",
      "execution_count": null,
      "metadata": {
        "id": "VDi8f3KYJXnz"
      },
      "outputs": [],
      "source": [
        "# reshape into X=t,t+1,t+2,t+3 and Y=t+4\n",
        "time_step = 3\n",
        "X_train, y_train = create_dataset(train_data, time_step)\n",
        "X_test, ytest = create_dataset(test_data, time_step)"
      ]
    },
    {
      "cell_type": "code",
      "execution_count": null,
      "metadata": {
        "colab": {
          "base_uri": "https://localhost:8080/"
        },
        "id": "wU4i-2GGJaRB",
        "outputId": "31df06f1-444b-43a7-baf8-326f419c8e9e"
      },
      "outputs": [
        {
          "output_type": "stream",
          "name": "stdout",
          "text": [
            "(1729, 3)\n",
            "(1729,)\n"
          ]
        },
        {
          "output_type": "execute_result",
          "data": {
            "text/plain": [
              "(None, None)"
            ]
          },
          "metadata": {},
          "execution_count": 22
        }
      ],
      "source": [
        "print(X_train.shape), print(y_train.shape)"
      ]
    },
    {
      "cell_type": "code",
      "execution_count": null,
      "metadata": {
        "colab": {
          "base_uri": "https://localhost:8080/"
        },
        "id": "FH5AsXPOKDUR",
        "outputId": "2868fc45-3c62-4bf3-ba58-960a5374a123"
      },
      "outputs": [
        {
          "output_type": "stream",
          "name": "stdout",
          "text": [
            "(930, 3)\n",
            "(930,)\n"
          ]
        },
        {
          "output_type": "execute_result",
          "data": {
            "text/plain": [
              "(None, None)"
            ]
          },
          "metadata": {},
          "execution_count": 23
        }
      ],
      "source": [
        "print(X_test.shape), print(ytest.shape)"
      ]
    },
    {
      "cell_type": "code",
      "execution_count": null,
      "metadata": {
        "id": "I3elui3fKHFg"
      },
      "outputs": [],
      "source": [
        "# reshape input to be [samples, time steps, features] which is required for LSTM\n",
        "X_train =X_train.reshape(X_train.shape[0],X_train.shape[1] , 1)\n",
        "X_test = X_test.reshape(X_test.shape[0],X_test.shape[1] , 1)"
      ]
    },
    {
      "cell_type": "code",
      "execution_count": null,
      "metadata": {
        "id": "cDIq8By9KNu8"
      },
      "outputs": [],
      "source": [
        "### Create the Stacked LSTM model\n",
        "from tensorflow.keras.models import Sequential\n",
        "from tensorflow.keras.layers import Dense\n",
        "from tensorflow.keras.layers import LSTM"
      ]
    },
    {
      "cell_type": "code",
      "execution_count": null,
      "metadata": {
        "id": "mHYetA-8KQ2s"
      },
      "outputs": [],
      "source": [
        "model=Sequential()\n",
        "model.add(LSTM(50,return_sequences=True,input_shape=(time_step,1)))\n",
        "model.add(LSTM(50,return_sequences=True))\n",
        "model.add(LSTM(50))\n",
        "model.add(Dense(1))\n",
        "model.compile(loss='mean_squared_error',optimizer='adam')"
      ]
    },
    {
      "cell_type": "code",
      "execution_count": null,
      "metadata": {
        "colab": {
          "base_uri": "https://localhost:8080/"
        },
        "id": "bvYX3uHfKTvh",
        "outputId": "fd466333-5603-49bb-c793-61633982d893"
      },
      "outputs": [
        {
          "output_type": "stream",
          "name": "stdout",
          "text": [
            "Model: \"sequential\"\n",
            "_________________________________________________________________\n",
            " Layer (type)                Output Shape              Param #   \n",
            "=================================================================\n",
            " lstm (LSTM)                 (None, 3, 50)             10400     \n",
            "                                                                 \n",
            " lstm_1 (LSTM)               (None, 3, 50)             20200     \n",
            "                                                                 \n",
            " lstm_2 (LSTM)               (None, 50)                20200     \n",
            "                                                                 \n",
            " dense (Dense)               (None, 1)                 51        \n",
            "                                                                 \n",
            "=================================================================\n",
            "Total params: 50,851\n",
            "Trainable params: 50,851\n",
            "Non-trainable params: 0\n",
            "_________________________________________________________________\n"
          ]
        }
      ],
      "source": [
        "model.summary()"
      ]
    },
    {
      "cell_type": "code",
      "execution_count": null,
      "metadata": {
        "colab": {
          "base_uri": "https://localhost:8080/"
        },
        "id": "PQjMj8NpKsJo",
        "outputId": "8d17f989-4c6c-402e-aa34-75f135189efa"
      },
      "outputs": [
        {
          "output_type": "stream",
          "name": "stdout",
          "text": [
            "Model: \"sequential\"\n",
            "_________________________________________________________________\n",
            " Layer (type)                Output Shape              Param #   \n",
            "=================================================================\n",
            " lstm (LSTM)                 (None, 3, 50)             10400     \n",
            "                                                                 \n",
            " lstm_1 (LSTM)               (None, 3, 50)             20200     \n",
            "                                                                 \n",
            " lstm_2 (LSTM)               (None, 50)                20200     \n",
            "                                                                 \n",
            " dense (Dense)               (None, 1)                 51        \n",
            "                                                                 \n",
            "=================================================================\n",
            "Total params: 50,851\n",
            "Trainable params: 50,851\n",
            "Non-trainable params: 0\n",
            "_________________________________________________________________\n"
          ]
        }
      ],
      "source": [
        "model.summary()"
      ]
    },
    {
      "cell_type": "code",
      "execution_count": null,
      "metadata": {
        "colab": {
          "base_uri": "https://localhost:8080/"
        },
        "id": "7HpeBfzJKyQL",
        "outputId": "650aa5e9-cdab-4591-9259-b08ef8697bc8"
      },
      "outputs": [
        {
          "output_type": "stream",
          "name": "stdout",
          "text": [
            "Epoch 1/100\n",
            "28/28 [==============================] - 8s 62ms/step - loss: 0.0225 - val_loss: 0.0904\n",
            "Epoch 2/100\n",
            "28/28 [==============================] - 0s 15ms/step - loss: 0.0054 - val_loss: 0.0014\n",
            "Epoch 3/100\n",
            "28/28 [==============================] - 0s 14ms/step - loss: 3.0962e-04 - val_loss: 0.0089\n",
            "Epoch 4/100\n",
            "28/28 [==============================] - 0s 14ms/step - loss: 1.3117e-04 - val_loss: 0.0093\n",
            "Epoch 5/100\n",
            "28/28 [==============================] - 0s 15ms/step - loss: 1.2001e-04 - val_loss: 0.0058\n",
            "Epoch 6/100\n",
            "28/28 [==============================] - 0s 14ms/step - loss: 1.1453e-04 - val_loss: 0.0050\n",
            "Epoch 7/100\n",
            "28/28 [==============================] - 1s 22ms/step - loss: 1.1286e-04 - val_loss: 0.0037\n",
            "Epoch 8/100\n",
            "28/28 [==============================] - 1s 24ms/step - loss: 1.1626e-04 - val_loss: 0.0032\n",
            "Epoch 9/100\n",
            "28/28 [==============================] - 1s 22ms/step - loss: 1.0837e-04 - val_loss: 0.0026\n",
            "Epoch 10/100\n",
            "28/28 [==============================] - 1s 22ms/step - loss: 1.0503e-04 - val_loss: 0.0014\n",
            "Epoch 11/100\n",
            "28/28 [==============================] - 1s 25ms/step - loss: 1.0690e-04 - val_loss: 5.6300e-04\n",
            "Epoch 12/100\n",
            "28/28 [==============================] - 1s 23ms/step - loss: 1.5750e-04 - val_loss: 0.0013\n",
            "Epoch 13/100\n",
            "28/28 [==============================] - 1s 25ms/step - loss: 1.0194e-04 - val_loss: 7.3107e-04\n",
            "Epoch 14/100\n",
            "28/28 [==============================] - 0s 15ms/step - loss: 1.0142e-04 - val_loss: 8.8400e-04\n",
            "Epoch 15/100\n",
            "28/28 [==============================] - 0s 14ms/step - loss: 9.6470e-05 - val_loss: 5.4611e-04\n",
            "Epoch 16/100\n",
            "28/28 [==============================] - 0s 15ms/step - loss: 9.7076e-05 - val_loss: 4.9015e-04\n",
            "Epoch 17/100\n",
            "28/28 [==============================] - 0s 15ms/step - loss: 9.8873e-05 - val_loss: 4.9134e-04\n",
            "Epoch 18/100\n",
            "28/28 [==============================] - 0s 15ms/step - loss: 9.6127e-05 - val_loss: 3.3164e-04\n",
            "Epoch 19/100\n",
            "28/28 [==============================] - 0s 14ms/step - loss: 9.9785e-05 - val_loss: 3.6082e-04\n",
            "Epoch 20/100\n",
            "28/28 [==============================] - 0s 15ms/step - loss: 9.8795e-05 - val_loss: 3.5264e-04\n",
            "Epoch 21/100\n",
            "28/28 [==============================] - 0s 15ms/step - loss: 9.9738e-05 - val_loss: 3.5136e-04\n",
            "Epoch 22/100\n",
            "28/28 [==============================] - 0s 15ms/step - loss: 9.7392e-05 - val_loss: 3.9679e-04\n",
            "Epoch 23/100\n",
            "28/28 [==============================] - 0s 15ms/step - loss: 1.0781e-04 - val_loss: 4.7430e-04\n",
            "Epoch 24/100\n",
            "28/28 [==============================] - 0s 15ms/step - loss: 1.0665e-04 - val_loss: 3.6248e-04\n",
            "Epoch 25/100\n",
            "28/28 [==============================] - 0s 15ms/step - loss: 9.5733e-05 - val_loss: 4.0927e-04\n",
            "Epoch 26/100\n",
            "28/28 [==============================] - 0s 15ms/step - loss: 9.6612e-05 - val_loss: 3.9249e-04\n",
            "Epoch 27/100\n",
            "28/28 [==============================] - 0s 15ms/step - loss: 9.7607e-05 - val_loss: 0.0011\n",
            "Epoch 28/100\n",
            "28/28 [==============================] - 0s 15ms/step - loss: 1.8191e-04 - val_loss: 4.0768e-04\n",
            "Epoch 29/100\n",
            "28/28 [==============================] - 0s 15ms/step - loss: 1.0885e-04 - val_loss: 6.5805e-04\n",
            "Epoch 30/100\n",
            "28/28 [==============================] - 0s 15ms/step - loss: 9.5203e-05 - val_loss: 4.3697e-04\n",
            "Epoch 31/100\n",
            "28/28 [==============================] - 0s 16ms/step - loss: 1.4058e-04 - val_loss: 7.0136e-04\n",
            "Epoch 32/100\n",
            "28/28 [==============================] - 0s 14ms/step - loss: 9.3371e-05 - val_loss: 5.4951e-04\n",
            "Epoch 33/100\n",
            "28/28 [==============================] - 0s 15ms/step - loss: 1.3988e-04 - val_loss: 4.4891e-04\n",
            "Epoch 34/100\n",
            "28/28 [==============================] - 0s 15ms/step - loss: 1.0685e-04 - val_loss: 6.1724e-04\n",
            "Epoch 35/100\n",
            "28/28 [==============================] - 0s 18ms/step - loss: 1.0012e-04 - val_loss: 4.6615e-04\n",
            "Epoch 36/100\n",
            "28/28 [==============================] - 0s 17ms/step - loss: 1.2218e-04 - val_loss: 4.1455e-04\n",
            "Epoch 37/100\n",
            "28/28 [==============================] - 1s 19ms/step - loss: 9.5882e-05 - val_loss: 4.8215e-04\n",
            "Epoch 38/100\n",
            "28/28 [==============================] - 1s 24ms/step - loss: 1.0559e-04 - val_loss: 5.1736e-04\n",
            "Epoch 39/100\n",
            "28/28 [==============================] - 1s 25ms/step - loss: 1.0039e-04 - val_loss: 4.5304e-04\n",
            "Epoch 40/100\n",
            "28/28 [==============================] - 1s 26ms/step - loss: 9.4807e-05 - val_loss: 6.7862e-04\n",
            "Epoch 41/100\n",
            "28/28 [==============================] - 1s 25ms/step - loss: 9.6804e-05 - val_loss: 8.1478e-04\n",
            "Epoch 42/100\n",
            "28/28 [==============================] - 1s 23ms/step - loss: 9.7191e-05 - val_loss: 5.3330e-04\n",
            "Epoch 43/100\n",
            "28/28 [==============================] - 1s 22ms/step - loss: 9.2887e-05 - val_loss: 4.1865e-04\n",
            "Epoch 44/100\n",
            "28/28 [==============================] - 0s 17ms/step - loss: 1.0173e-04 - val_loss: 0.0011\n",
            "Epoch 45/100\n",
            "28/28 [==============================] - 0s 14ms/step - loss: 1.0534e-04 - val_loss: 6.7902e-04\n",
            "Epoch 46/100\n",
            "28/28 [==============================] - 0s 15ms/step - loss: 1.0432e-04 - val_loss: 4.5371e-04\n",
            "Epoch 47/100\n",
            "28/28 [==============================] - 0s 15ms/step - loss: 9.4542e-05 - val_loss: 6.0871e-04\n",
            "Epoch 48/100\n",
            "28/28 [==============================] - 0s 15ms/step - loss: 9.7318e-05 - val_loss: 5.4904e-04\n",
            "Epoch 49/100\n",
            "28/28 [==============================] - 0s 15ms/step - loss: 9.2780e-05 - val_loss: 5.9842e-04\n",
            "Epoch 50/100\n",
            "28/28 [==============================] - 0s 14ms/step - loss: 9.9952e-05 - val_loss: 4.3372e-04\n",
            "Epoch 51/100\n",
            "28/28 [==============================] - 0s 15ms/step - loss: 9.2296e-05 - val_loss: 3.9434e-04\n",
            "Epoch 52/100\n",
            "28/28 [==============================] - 0s 14ms/step - loss: 9.4377e-05 - val_loss: 6.6207e-04\n",
            "Epoch 53/100\n",
            "28/28 [==============================] - 0s 14ms/step - loss: 9.8318e-05 - val_loss: 4.6574e-04\n",
            "Epoch 54/100\n",
            "28/28 [==============================] - 0s 14ms/step - loss: 9.3233e-05 - val_loss: 5.6829e-04\n",
            "Epoch 55/100\n",
            "28/28 [==============================] - 0s 14ms/step - loss: 9.3943e-05 - val_loss: 0.0010\n",
            "Epoch 56/100\n",
            "28/28 [==============================] - 0s 14ms/step - loss: 1.2315e-04 - val_loss: 5.5046e-04\n",
            "Epoch 57/100\n",
            "28/28 [==============================] - 0s 15ms/step - loss: 9.3927e-05 - val_loss: 8.3021e-04\n",
            "Epoch 58/100\n",
            "28/28 [==============================] - 0s 15ms/step - loss: 9.7640e-05 - val_loss: 8.1102e-04\n",
            "Epoch 59/100\n",
            "28/28 [==============================] - 0s 14ms/step - loss: 1.0447e-04 - val_loss: 4.3561e-04\n",
            "Epoch 60/100\n",
            "28/28 [==============================] - 0s 15ms/step - loss: 9.5416e-05 - val_loss: 5.8358e-04\n",
            "Epoch 61/100\n",
            "28/28 [==============================] - 0s 15ms/step - loss: 9.9213e-05 - val_loss: 5.8579e-04\n",
            "Epoch 62/100\n",
            "28/28 [==============================] - 0s 15ms/step - loss: 9.4349e-05 - val_loss: 4.7266e-04\n",
            "Epoch 63/100\n",
            "28/28 [==============================] - 0s 16ms/step - loss: 1.0991e-04 - val_loss: 6.6539e-04\n",
            "Epoch 64/100\n",
            "28/28 [==============================] - 0s 15ms/step - loss: 1.0853e-04 - val_loss: 4.3866e-04\n",
            "Epoch 65/100\n",
            "28/28 [==============================] - 0s 14ms/step - loss: 1.2437e-04 - val_loss: 5.0277e-04\n",
            "Epoch 66/100\n",
            "28/28 [==============================] - 0s 15ms/step - loss: 9.4854e-05 - val_loss: 8.2532e-04\n",
            "Epoch 67/100\n",
            "28/28 [==============================] - 0s 15ms/step - loss: 1.0077e-04 - val_loss: 5.2545e-04\n",
            "Epoch 68/100\n",
            "28/28 [==============================] - 1s 23ms/step - loss: 9.6519e-05 - val_loss: 7.0670e-04\n",
            "Epoch 69/100\n",
            "28/28 [==============================] - 1s 21ms/step - loss: 1.0863e-04 - val_loss: 4.6831e-04\n",
            "Epoch 70/100\n",
            "28/28 [==============================] - 1s 24ms/step - loss: 1.3025e-04 - val_loss: 7.6197e-04\n",
            "Epoch 71/100\n",
            "28/28 [==============================] - 1s 25ms/step - loss: 9.2727e-05 - val_loss: 6.4536e-04\n",
            "Epoch 72/100\n",
            "28/28 [==============================] - 1s 23ms/step - loss: 9.0149e-05 - val_loss: 0.0016\n",
            "Epoch 73/100\n",
            "28/28 [==============================] - 1s 25ms/step - loss: 1.2638e-04 - val_loss: 4.8239e-04\n",
            "Epoch 74/100\n",
            "28/28 [==============================] - 1s 21ms/step - loss: 1.3190e-04 - val_loss: 4.6004e-04\n",
            "Epoch 75/100\n",
            "28/28 [==============================] - 0s 15ms/step - loss: 9.8469e-05 - val_loss: 6.4058e-04\n",
            "Epoch 76/100\n",
            "28/28 [==============================] - 0s 15ms/step - loss: 9.3360e-05 - val_loss: 7.1586e-04\n",
            "Epoch 77/100\n",
            "28/28 [==============================] - 0s 15ms/step - loss: 9.4341e-05 - val_loss: 5.6894e-04\n",
            "Epoch 78/100\n",
            "28/28 [==============================] - 0s 14ms/step - loss: 9.6274e-05 - val_loss: 8.1305e-04\n",
            "Epoch 79/100\n",
            "28/28 [==============================] - 0s 15ms/step - loss: 9.2910e-05 - val_loss: 4.2276e-04\n",
            "Epoch 80/100\n",
            "28/28 [==============================] - 0s 14ms/step - loss: 9.6134e-05 - val_loss: 4.3493e-04\n",
            "Epoch 81/100\n",
            "28/28 [==============================] - 0s 14ms/step - loss: 8.8813e-05 - val_loss: 5.4819e-04\n",
            "Epoch 82/100\n",
            "28/28 [==============================] - 0s 15ms/step - loss: 9.4005e-05 - val_loss: 0.0016\n",
            "Epoch 83/100\n",
            "28/28 [==============================] - 0s 14ms/step - loss: 1.1673e-04 - val_loss: 5.9244e-04\n",
            "Epoch 84/100\n",
            "28/28 [==============================] - 0s 15ms/step - loss: 9.5515e-05 - val_loss: 8.4421e-04\n",
            "Epoch 85/100\n",
            "28/28 [==============================] - 0s 14ms/step - loss: 8.8803e-05 - val_loss: 7.9047e-04\n",
            "Epoch 86/100\n",
            "28/28 [==============================] - 0s 14ms/step - loss: 9.2662e-05 - val_loss: 4.3872e-04\n",
            "Epoch 87/100\n",
            "28/28 [==============================] - 0s 15ms/step - loss: 9.4426e-05 - val_loss: 0.0010\n",
            "Epoch 88/100\n",
            "28/28 [==============================] - 0s 14ms/step - loss: 9.2663e-05 - val_loss: 7.2328e-04\n",
            "Epoch 89/100\n",
            "28/28 [==============================] - 0s 15ms/step - loss: 9.2659e-05 - val_loss: 6.1389e-04\n",
            "Epoch 90/100\n",
            "28/28 [==============================] - 0s 15ms/step - loss: 9.7070e-05 - val_loss: 5.8325e-04\n",
            "Epoch 91/100\n",
            "28/28 [==============================] - 0s 15ms/step - loss: 8.9088e-05 - val_loss: 5.4414e-04\n",
            "Epoch 92/100\n",
            "28/28 [==============================] - 0s 16ms/step - loss: 8.9017e-05 - val_loss: 4.1218e-04\n",
            "Epoch 93/100\n",
            "28/28 [==============================] - 0s 14ms/step - loss: 1.0445e-04 - val_loss: 5.1415e-04\n",
            "Epoch 94/100\n",
            "28/28 [==============================] - 0s 15ms/step - loss: 9.2009e-05 - val_loss: 0.0018\n",
            "Epoch 95/100\n",
            "28/28 [==============================] - 0s 14ms/step - loss: 1.0905e-04 - val_loss: 4.7779e-04\n",
            "Epoch 96/100\n",
            "28/28 [==============================] - 0s 14ms/step - loss: 9.1192e-05 - val_loss: 7.6401e-04\n",
            "Epoch 97/100\n",
            "28/28 [==============================] - 0s 18ms/step - loss: 9.1256e-05 - val_loss: 5.4241e-04\n",
            "Epoch 98/100\n",
            "28/28 [==============================] - 1s 20ms/step - loss: 9.2291e-05 - val_loss: 6.3435e-04\n",
            "Epoch 99/100\n",
            "28/28 [==============================] - 1s 25ms/step - loss: 9.5670e-05 - val_loss: 6.1590e-04\n",
            "Epoch 100/100\n",
            "28/28 [==============================] - 1s 25ms/step - loss: 8.8076e-05 - val_loss: 0.0013\n"
          ]
        },
        {
          "output_type": "execute_result",
          "data": {
            "text/plain": [
              "<keras.callbacks.History at 0x7f992cfcbe50>"
            ]
          },
          "metadata": {},
          "execution_count": 29
        }
      ],
      "source": [
        "model.fit(X_train,y_train,validation_data=(X_test,ytest),epochs=100,batch_size=64,verbose=1)"
      ]
    },
    {
      "cell_type": "code",
      "source": [
        "model.save(\"lstm_model.h5\")"
      ],
      "metadata": {
        "id": "F8RT7zjmGWLA"
      },
      "execution_count": null,
      "outputs": []
    },
    {
      "cell_type": "code",
      "source": [
        "from google.colab import files\n",
        "files.download(\"lstm_model.h5\")"
      ],
      "metadata": {
        "colab": {
          "base_uri": "https://localhost:8080/",
          "height": 17
        },
        "id": "oceIqTxdGgpg",
        "outputId": "ca6dc2cf-0689-49c9-fb78-3e45409873d0"
      },
      "execution_count": null,
      "outputs": [
        {
          "output_type": "display_data",
          "data": {
            "text/plain": [
              "<IPython.core.display.Javascript object>"
            ],
            "application/javascript": [
              "\n",
              "    async function download(id, filename, size) {\n",
              "      if (!google.colab.kernel.accessAllowed) {\n",
              "        return;\n",
              "      }\n",
              "      const div = document.createElement('div');\n",
              "      const label = document.createElement('label');\n",
              "      label.textContent = `Downloading \"${filename}\": `;\n",
              "      div.appendChild(label);\n",
              "      const progress = document.createElement('progress');\n",
              "      progress.max = size;\n",
              "      div.appendChild(progress);\n",
              "      document.body.appendChild(div);\n",
              "\n",
              "      const buffers = [];\n",
              "      let downloaded = 0;\n",
              "\n",
              "      const channel = await google.colab.kernel.comms.open(id);\n",
              "      // Send a message to notify the kernel that we're ready.\n",
              "      channel.send({})\n",
              "\n",
              "      for await (const message of channel.messages) {\n",
              "        // Send a message to notify the kernel that we're ready.\n",
              "        channel.send({})\n",
              "        if (message.buffers) {\n",
              "          for (const buffer of message.buffers) {\n",
              "            buffers.push(buffer);\n",
              "            downloaded += buffer.byteLength;\n",
              "            progress.value = downloaded;\n",
              "          }\n",
              "        }\n",
              "      }\n",
              "      const blob = new Blob(buffers, {type: 'application/binary'});\n",
              "      const a = document.createElement('a');\n",
              "      a.href = window.URL.createObjectURL(blob);\n",
              "      a.download = filename;\n",
              "      div.appendChild(a);\n",
              "      a.click();\n",
              "      div.remove();\n",
              "    }\n",
              "  "
            ]
          },
          "metadata": {}
        },
        {
          "output_type": "display_data",
          "data": {
            "text/plain": [
              "<IPython.core.display.Javascript object>"
            ],
            "application/javascript": [
              "download(\"download_e44b22b1-0119-4d2b-b2d0-b3e579273416\", \"lstm_model.h5\", 664592)"
            ]
          },
          "metadata": {}
        }
      ]
    },
    {
      "cell_type": "code",
      "execution_count": null,
      "metadata": {
        "id": "2rlhM8hAK5gU"
      },
      "outputs": [],
      "source": [
        "import tensorflow as tf"
      ]
    },
    {
      "cell_type": "code",
      "execution_count": null,
      "metadata": {
        "id": "1ewMfgYFK61B",
        "colab": {
          "base_uri": "https://localhost:8080/",
          "height": 36
        },
        "outputId": "20c8397d-cdd3-485a-be38-0a510509bb5c"
      },
      "outputs": [
        {
          "output_type": "execute_result",
          "data": {
            "text/plain": [
              "'2.12.0'"
            ],
            "application/vnd.google.colaboratory.intrinsic+json": {
              "type": "string"
            }
          },
          "metadata": {},
          "execution_count": 31
        }
      ],
      "source": [
        "tf.__version__"
      ]
    },
    {
      "cell_type": "code",
      "execution_count": null,
      "metadata": {
        "id": "xT2oQTYJK9mb",
        "colab": {
          "base_uri": "https://localhost:8080/"
        },
        "outputId": "398e8937-a759-489e-fa37-0c17b5a3f917"
      },
      "outputs": [
        {
          "output_type": "stream",
          "name": "stdout",
          "text": [
            "55/55 [==============================] - 1s 4ms/step\n",
            "30/30 [==============================] - 0s 4ms/step\n"
          ]
        }
      ],
      "source": [
        "### Lets Do the prediction and check performance metrics\n",
        "train_predict=model.predict(X_train)\n",
        "test_predict=model.predict(X_test)"
      ]
    },
    {
      "cell_type": "code",
      "execution_count": null,
      "metadata": {
        "id": "-OaNje_uLAcg"
      },
      "outputs": [],
      "source": [
        "##Transformback to original form\n",
        "train_predict=scaler.inverse_transform(train_predict)\n",
        "test_predict=scaler.inverse_transform(test_predict)"
      ]
    },
    {
      "cell_type": "code",
      "source": [
        "from sklearn.metrics import mean_squared_error\n",
        "\n",
        "y_pred = model.predict(X_test)\n",
        "mse = mean_squared_error(ytest, y_pred)\n",
        "print(\"Mean Squared Error (MSE):\", mse)\n",
        "import numpy as np\n",
        "\n",
        "y_pred_direction = np.sign(y_pred[:, 0] - ytest)\n",
        "directional_accuracy = np.mean(y_pred_direction == np.sign(y_pred[:, 0] - ytest))\n",
        "print(\"Directional Accuracy:\", directional_accuracy)"
      ],
      "metadata": {
        "colab": {
          "base_uri": "https://localhost:8080/"
        },
        "id": "G6EzWYiXzU6A",
        "outputId": "c41b8f2d-3f9c-4bec-d77f-99b5cef23a7f"
      },
      "execution_count": null,
      "outputs": [
        {
          "output_type": "stream",
          "name": "stdout",
          "text": [
            "30/30 [==============================] - 0s 3ms/step\n",
            "Mean Squared Error (MSE): 0.0012628592505818542\n",
            "Directional Accuracy: 1.0\n"
          ]
        }
      ]
    },
    {
      "cell_type": "code",
      "source": [
        "y_train=scaler.inverse_transform([y_train])\n",
        "ytest=scaler.inverse_transform([ytest])"
      ],
      "metadata": {
        "id": "872ou78S0brp"
      },
      "execution_count": null,
      "outputs": []
    },
    {
      "cell_type": "code",
      "execution_count": null,
      "metadata": {
        "id": "dF3rYhtnLK2B",
        "colab": {
          "base_uri": "https://localhost:8080/",
          "height": 430
        },
        "outputId": "67beac6e-da36-4798-904c-f780f2cf0abb"
      },
      "outputs": [
        {
          "output_type": "display_data",
          "data": {
            "text/plain": [
              "<Figure size 640x480 with 1 Axes>"
            ],
            "image/png": "[encoded data removed]"
          },
          "metadata": {}
        }
      ],
      "source": [
        "### Plotting\n",
        "# shift train predictions for plotting\n",
        "look_back=3\n",
        "trainPredictPlot = numpy.empty_like(data1)\n",
        "trainPredictPlot[:, :] = np.nan\n",
        "trainPredictPlot[look_back:len(train_predict)+look_back, :] = train_predict\n",
        "# shift test predictions for plotting\n",
        "testPredictPlot = numpy.empty_like(data1)\n",
        "testPredictPlot[:, :] = numpy.nan\n",
        "testPredictPlot[len(train_predict)+(look_back*2)+1:len(data1)-1, :] = test_predict\n",
        "# plot baseline and predictions\n",
        "plt.plot(scaler.inverse_transform(data1))\n",
        "plt.plot(trainPredictPlot)\n",
        "plt.plot(testPredictPlot)\n",
        "plt.show()"
      ]
    },
    {
      "cell_type": "code",
      "execution_count": null,
      "metadata": {
        "id": "Yt2vo4HFLSy6",
        "colab": {
          "base_uri": "https://localhost:8080/"
        },
        "outputId": "7420b217-f9d4-4f81-807b-2229af15650d"
      },
      "outputs": [
        {
          "output_type": "execute_result",
          "data": {
            "text/plain": [
              "934"
            ]
          },
          "metadata": {},
          "execution_count": 46
        }
      ],
      "source": [
        "len(test_data)"
      ]
    },
    {
      "cell_type": "code",
      "execution_count": null,
      "metadata": {
        "id": "LOCnAM22LXAx",
        "colab": {
          "base_uri": "https://localhost:8080/"
        },
        "outputId": "5f9b2d63-d442-48e0-8865-480d8b9c3beb"
      },
      "outputs": [
        {
          "output_type": "execute_result",
          "data": {
            "text/plain": [
              "(1, 50)"
            ]
          },
          "metadata": {},
          "execution_count": 47
        }
      ],
      "source": [
        "x_input=test_data[884:].reshape(1,-1)\n",
        "x_input.shape"
      ]
    },
    {
      "cell_type": "code",
      "execution_count": null,
      "metadata": {
        "id": "n2K8jcHzLZpN"
      },
      "outputs": [],
      "source": [
        "temp_input=list(x_input)\n",
        "temp_input=temp_input[0].tolist()"
      ]
    },
    {
      "cell_type": "code",
      "execution_count": null,
      "metadata": {
        "id": "VRWu6jqbLb2m",
        "colab": {
          "base_uri": "https://localhost:8080/"
        },
        "outputId": "b5e91633-31d2-4138-a236-ee09a480a298"
      },
      "outputs": [
        {
          "output_type": "execute_result",
          "data": {
            "text/plain": [
              "[0.9868715110780042,\n",
              " 0.9859430490757428,\n",
              " 1.0,\n",
              " 0.9998839422497174,\n",
              " 0.9901768896568515,\n",
              " 0.9818253563057309,\n",
              " 0.9436516048727306,\n",
              " 0.9691100506155195,\n",
              " 0.9798198236015878,\n",
              " 0.9270646850531246,\n",
              " 0.9486420881348863,\n",
              " 0.9632699884112763,\n",
              " 0.993584272785115,\n",
              " 0.9782786128878518,\n",
              " 0.9650340662155732,\n",
              " 0.9667146372189246,\n",
              " 0.9799173845318616,\n",
              " 0.9870107803783434,\n",
              " 0.9736548906858296,\n",
              " 0.9642356251036464,\n",
              " 0.9624669235585781,\n",
              " 0.9449050285757836,\n",
              " 0.9297292985795789,\n",
              " 0.9470126549616953,\n",
              " 0.9463070600499945,\n",
              " 0.9535815236276954,\n",
              " 0.9289448206077042,\n",
              " 0.9081008486569331,\n",
              " 0.925035941727387,\n",
              " 0.956399369594541,\n",
              " 0.9420639710588814,\n",
              " 0.9584651975495728,\n",
              " 0.9371523708568998,\n",
              " 0.941395459848013,\n",
              " 0.9539807446478898,\n",
              " 0.9590640741102718,\n",
              " 0.9554476960422229,\n",
              " 0.9067916633829483,\n",
              " 0.9248038262268217,\n",
              " 0.9319205236841741,\n",
              " 0.935300070593148,\n",
              " 0.9113086672339685,\n",
              " 0.9054547319504878,\n",
              " 0.915644602425308,\n",
              " 0.9096280962306169,\n",
              " 0.9229654891031218,\n",
              " 0.9385682754103486,\n",
              " 0.9582052467581799,\n",
              " 0.9610231827858398,\n",
              " 0.9365302827461446]"
            ]
          },
          "metadata": {},
          "execution_count": 49
        }
      ],
      "source": [
        "temp_input"
      ]
    },
    {
      "cell_type": "code",
      "source": [
        "recent_data = data1[-time_step:]\n",
        "next_list = []\n",
        "\n",
        "for _ in range(2):\n",
        "   input_data = recent_data[-look_back:].reshape(1, time_step, 1)\n",
        "   predicted_price = model.predict(input_data)\n",
        "   next_list.extend([predicted_price[0, 0]])\n",
        "   recent_data = np.append(recent_data, predicted_price, axis=0)\n",
        "   print(\"Next Two Days Predictions:\", next_list)"
      ],
      "metadata": {
        "colab": {
          "base_uri": "https://localhost:8080/"
        },
        "id": "3UMZ8a2Q28Mp",
        "outputId": "3d0e9a0d-0c75-4a20-f5a1-32b36f9913ea"
      },
      "execution_count": null,
      "outputs": [
        {
          "output_type": "stream",
          "name": "stdout",
          "text": [
            "1/1 [==============================] - 0s 25ms/step\n",
            "Next Two Days Predictions: [0.8872351]\n",
            "1/1 [==============================] - 0s 26ms/step\n",
            "Next Two Days Predictions: [0.8872351, 0.8749556]\n"
          ]
        }
      ]
    },
    {
      "cell_type": "code",
      "source": [
        "predicted_prices = scaler.inverse_transform(np.array(next_list).reshape(-1, 1))\n",
        "\n",
        "predicted_prices.flatten().tolist()"
      ],
      "metadata": {
        "colab": {
          "base_uri": "https://localhost:8080/"
        },
        "id": "7AMBrB1p37hG",
        "outputId": "3dd73556-c878-4d74-c49d-0ba36cc3c621"
      },
      "execution_count": null,
      "outputs": [
        {
          "output_type": "execute_result",
          "data": {
            "text/plain": [
              "[14100.166015625, 13967.91015625]"
            ]
          },
          "metadata": {},
          "execution_count": 60
        }
      ]
    },
    {
      "cell_type": "code",
      "execution_count": null,
      "metadata": {
        "id": "1WAMz3oiLr2U"
      },
      "outputs": [],
      "source": [
        "day_new=np.arange(1,51)\n",
        "day_pred=np.arange(52,54)"
      ]
    },
    {
      "cell_type": "code",
      "execution_count": null,
      "metadata": {
        "id": "vvOY_nVbLsh_"
      },
      "outputs": [],
      "source": [
        "import matplotlib.pyplot as plt\n",
        "import random\n",
        "from sklearn.preprocessing import MinMaxScaler\n",
        "from keras.models import Sequential\n",
        "from keras.layers import LSTM, Dense"
      ]
    },
    {
      "cell_type": "code",
      "execution_count": null,
      "metadata": {
        "id": "N_9zWLkOLvJ2",
        "colab": {
          "base_uri": "https://localhost:8080/"
        },
        "outputId": "ccbd6cb7-2d89-4e10-eaff-4e58deb4ec28"
      },
      "outputs": [
        {
          "output_type": "execute_result",
          "data": {
            "text/plain": [
              "2667"
            ]
          },
          "metadata": {},
          "execution_count": 61
        }
      ],
      "source": [
        "len(data1)"
      ]
    },
    {
      "cell_type": "code",
      "source": [
        "import matplotlib.pyplot as plt\n",
        "\n",
        "# Assuming you have defined 'day_new' and 'df1' variables\n",
        "# and 'day_pred' and 'lst_output' variables from your previous code\n",
        "\n",
        "# Reshape lst_output to a 2D array with a single column\n",
        "next_list = np.array(next_list).reshape(-1, 1)\n",
        "\n",
        "# Inverse transform the data\n",
        "original_values = scaler.inverse_transform(data1[2617:])\n",
        "predicted_values = scaler.inverse_transform(next_list)\n",
        "\n",
        "# Plot the original and predicted values\n",
        "plt.plot(day_new, original_values)\n",
        "plt.plot(day_pred, predicted_values)\n",
        "plt.show()\n"
      ],
      "metadata": {
        "colab": {
          "base_uri": "https://localhost:8080/",
          "height": 430
        },
        "id": "iuIpXOk7Z70m",
        "outputId": "64625813-d396-4bcb-cce1-2830e599b3c2"
      },
      "execution_count": null,
      "outputs": [
        {
          "output_type": "display_data",
          "data": {
            "text/plain": [
              "<Figure size 640x480 with 1 Axes>"
            ],
            "image/png": "[encoded data removed]"
          },
          "metadata": {}
        }
      ]
    },
    {
      "cell_type": "code",
      "source": [
        "# Assuming you have defined 'day_pred' and 'predicted_values' variables from your previous code\n",
        "\n",
        "# Get the predicted values for the next 2 days\n",
        "predicted_next_2_days = predicted_values[-2:]\n",
        "# Print the predicted values\n",
        "for i, value in enumerate(predicted_next_2_days, 1):\n",
        "    print(\"Day {}: {:.2f}\".format(i, float(value)))\n"
      ],
      "metadata": {
        "colab": {
          "base_uri": "https://localhost:8080/"
        },
        "id": "yx3zDOggbU9w",
        "outputId": "9a881873-1ca2-44ad-848a-0c52dcaa37bf"
      },
      "execution_count": null,
      "outputs": [
        {
          "output_type": "stream",
          "name": "stdout",
          "text": [
            "Day 1: 14100.17\n",
            "Day 2: 13967.91\n"
          ]
        }
      ]
    },
    {
      "cell_type": "code",
      "source": [
        "import matplotlib.pyplot as plt\n",
        "\n",
        "# Assuming you have defined 'day_new' and 'df1' variables\n",
        "# and 'day_pred' and 'lst_output' variables from your previous code\n",
        "\n",
        "if len(next_list) > 0:\n",
        "    # Reshape lst_output to a 2D array\n",
        "    next_list = np.array(next_list).reshape(-1, 1)\n",
        "\n",
        "    # Inverse transform the data\n",
        "    original_values = scaler.inverse_transform(data1[2617:])\n",
        "    predicted_values = scaler.inverse_transform(next_list)\n",
        "\n",
        "    # Plot the original and predicted values\n",
        "    plt.plot(day_new, original_values)\n",
        "    plt.plot(day_pred, predicted_values)\n",
        "    plt.show()\n",
        "else:\n",
        "    print(\"No predictions were made.\")\n"
      ],
      "metadata": {
        "colab": {
          "base_uri": "https://localhost:8080/",
          "height": 430
        },
        "id": "zxvy3QbNYlln",
        "outputId": "e2bd9b47-fb45-4c9f-c9c1-95ece515ce4c"
      },
      "execution_count": null,
      "outputs": [
        {
          "output_type": "display_data",
          "data": {
            "text/plain": [
              "<Figure size 640x480 with 1 Axes>"
            ],
            "image/png": "[encoded data removed]"
          },
          "metadata": {}
        }
      ]
    },
    {
      "cell_type": "code",
      "execution_count": null,
      "metadata": {
        "id": "CnRAUhTZL2Ss",
        "colab": {
          "base_uri": "https://localhost:8080/",
          "height": 447
        },
        "outputId": "c6c54808-e9f9-4bbc-d2dc-7c03f870a4ac"
      },
      "outputs": [
        {
          "output_type": "execute_result",
          "data": {
            "text/plain": [
              "[<matplotlib.lines.Line2D at 0x7f991fcd1990>]"
            ]
          },
          "metadata": {},
          "execution_count": 67
        },
        {
          "output_type": "display_data",
          "data": {
            "text/plain": [
              "<Figure size 640x480 with 1 Axes>"
            ],
            "image/png": "[encoded data removed]"
          },
          "metadata": {}
        }
      ],
      "source": [
        "df3=data1.tolist()\n",
        "df3.extend(next_list)\n",
        "plt.plot(df3[1200:])"
      ]
    },
    {
      "cell_type": "code",
      "execution_count": null,
      "metadata": {
        "id": "rYPorgfyL5rh",
        "colab": {
          "base_uri": "https://localhost:8080/",
          "height": 447
        },
        "outputId": "82255537-310a-4d87-cb74-5b6352fa60c9"
      },
      "outputs": [
        {
          "output_type": "execute_result",
          "data": {
            "text/plain": [
              "[<matplotlib.lines.Line2D at 0x7f991eb69420>]"
            ]
          },
          "metadata": {},
          "execution_count": 68
        },
        {
          "output_type": "display_data",
          "data": {
            "text/plain": [
              "<Figure size 640x480 with 1 Axes>"
            ],
            "image/png": "[encoded data removed]"
          },
          "metadata": {}
        }
      ],
      "source": [
        "df3=scaler.inverse_transform(df3).tolist()\n",
        "plt.plot(df3)"
      ]
    },
    {
      "cell_type": "code",
      "source": [
        "sample_ds=pd.read_csv('/content/drive/MyDrive/sample_input.csv')\n"
      ],
      "metadata": {
        "id": "XkKs92DQ54Td"
      },
      "execution_count": null,
      "outputs": []
    },
    {
      "cell_type": "code",
      "source": [
        "random.seed(10)"
      ],
      "metadata": {
        "id": "btexbBVC6yie"
      },
      "execution_count": null,
      "outputs": []
    },
    {
      "cell_type": "code",
      "source": [
        "sample1=sample_ds.dropna()"
      ],
      "metadata": {
        "id": "BaqzpBcN6-TJ"
      },
      "execution_count": null,
      "outputs": []
    },
    {
      "cell_type": "code",
      "source": [
        "sample2=sample1.reset_index()['Close']"
      ],
      "metadata": {
        "id": "aVRgGMPU7bjv"
      },
      "execution_count": null,
      "outputs": []
    },
    {
      "cell_type": "code",
      "source": [
        "from sklearn.preprocessing import MinMaxScaler\n",
        "\n",
        "scaler = MinMaxScaler(feature_range=(0, 1))\n",
        "reshaped_data = np.array(sample2).reshape(-1, 1)\n",
        "sample3 = scaler.fit_transform(reshaped_data)"
      ],
      "metadata": {
        "id": "mueNSh3d7vn4"
      },
      "execution_count": null,
      "outputs": []
    },
    {
      "cell_type": "code",
      "source": [
        "sample3.shape"
      ],
      "metadata": {
        "colab": {
          "base_uri": "https://localhost:8080/"
        },
        "id": "cyPisWqT8MLS",
        "outputId": "67c7bb56-f0be-4b1e-e6ea-ec59c7e6a3b1"
      },
      "execution_count": null,
      "outputs": [
        {
          "output_type": "execute_result",
          "data": {
            "text/plain": [
              "(48, 1)"
            ]
          },
          "metadata": {},
          "execution_count": 76
        }
      ]
    },
    {
      "cell_type": "code",
      "source": [
        "sample3"
      ],
      "metadata": {
        "colab": {
          "base_uri": "https://localhost:8080/"
        },
        "id": "6BzpHwPk8Oys",
        "outputId": "fa773feb-c654-4f77-8a8d-6e1acfc901f0"
      },
      "execution_count": null,
      "outputs": [
        {
          "output_type": "execute_result",
          "data": {
            "text/plain": [
              "array([[0.        ],\n",
              "       [0.07340949],\n",
              "       [0.29286999],\n",
              "       [0.30304186],\n",
              "       [0.27871588],\n",
              "       [0.28351388],\n",
              "       [0.26067556],\n",
              "       [0.27132723],\n",
              "       [0.28327398],\n",
              "       [0.29037494],\n",
              "       [0.25107955],\n",
              "       [0.26077162],\n",
              "       [0.34742341],\n",
              "       [0.35342092],\n",
              "       [0.36460018],\n",
              "       [0.40332018],\n",
              "       [0.45528249],\n",
              "       [0.46324746],\n",
              "       [0.47941637],\n",
              "       [0.5096438 ],\n",
              "       [0.49385865],\n",
              "       [0.4537953 ],\n",
              "       [0.45446674],\n",
              "       [0.55153077],\n",
              "       [0.55172241],\n",
              "       [0.53243433],\n",
              "       [0.49097984],\n",
              "       [0.43551461],\n",
              "       [0.53540919],\n",
              "       [0.57211393],\n",
              "       [0.56990704],\n",
              "       [0.59432861],\n",
              "       [0.53862395],\n",
              "       [0.51799252],\n",
              "       [0.47385087],\n",
              "       [0.45576229],\n",
              "       [0.45422684],\n",
              "       [0.4585933 ],\n",
              "       [0.47389866],\n",
              "       [0.41368369],\n",
              "       [0.42068906],\n",
              "       [0.61160143],\n",
              "       [0.76077162],\n",
              "       [0.85145393],\n",
              "       [0.85145393],\n",
              "       [0.86527209],\n",
              "       [0.94189634],\n",
              "       [1.        ]])"
            ]
          },
          "metadata": {},
          "execution_count": 77
        }
      ]
    },
    {
      "cell_type": "code",
      "source": [
        "timestep2=3"
      ],
      "metadata": {
        "id": "d1_-Nytl96O0"
      },
      "execution_count": null,
      "outputs": []
    },
    {
      "cell_type": "code",
      "source": [
        "prevdata= sample3[-timestep2:]\n",
        "next_list2= []\n",
        "\n",
        "for _ in range(2):\n",
        "   input_data2= np.reshape(prevdata[-timestep2:], (1, timestep2, 1))\n",
        "   predicted_price = model.predict(input_data2)[0, 0]\n",
        "   next_list2.append(predicted_price)\n",
        "   prevdata = np.concatenate((prevdata, [[predicted_price]]), axis=0)"
      ],
      "metadata": {
        "colab": {
          "base_uri": "https://localhost:8080/"
        },
        "id": "dFOYkHKB8pnr",
        "outputId": "84d1b5bf-3398-4c2c-9eaa-bafa55229162"
      },
      "execution_count": null,
      "outputs": [
        {
          "output_type": "stream",
          "name": "stdout",
          "text": [
            "1/1 [==============================] - 0s 25ms/step\n",
            "1/1 [==============================] - 0s 25ms/step\n"
          ]
        }
      ]
    },
    {
      "cell_type": "code",
      "source": [
        "predicted_prices = scaler.inverse_transform(np.array(next_list2).reshape(-1, 1))\n",
        "\n",
        "predicted_prices.flatten().tolist()"
      ],
      "metadata": {
        "colab": {
          "base_uri": "https://localhost:8080/"
        },
        "id": "7RApWANC-58c",
        "outputId": "b17ce16a-049a-4d22-c2ae-7ce4d5c4ff00"
      },
      "execution_count": null,
      "outputs": [
        {
          "output_type": "execute_result",
          "data": {
            "text/plain": [
              "[7110.1796875, 7138.63720703125]"
            ]
          },
          "metadata": {},
          "execution_count": 88
        }
      ]
    }
  ],
  "metadata": {
    "colab": {
      "toc_visible": true,
      "provenance": [],
      "authorship_tag": "ABX9TyNteZsJEFV3T24QEfjp2sMm",
      "include_colab_link": true
    },
    "kernelspec": {
      "display_name": "Python 3",
      "name": "python3"
    },
    "language_info": {
      "name": "python"
    }
  },
  "nbformat": 4,
  "nbformat_minor": 0
}